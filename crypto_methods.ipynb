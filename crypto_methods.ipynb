{
 "cells": [
  {
   "cell_type": "code",
   "execution_count": 1,
   "id": "da0e6e1d-c4a0-4286-8727-6b46e19ede52",
   "metadata": {},
   "outputs": [],
   "source": [
    "# Used for generating random numbers used in cryptography\n",
    "import secrets\n",
    "# Used ONLY for statistical tests\n",
    "import random\n",
    "import keys"
   ]
  },
  {
   "cell_type": "code",
   "execution_count": 2,
   "id": "898d386e-2f9e-4f7d-a6a2-fecfe50ff7f6",
   "metadata": {},
   "outputs": [],
   "source": [
    "import helpers\n",
    "import rsa"
   ]
  },
  {
   "cell_type": "markdown",
   "id": "52b6b973-13c6-44a9-a64c-1b13a2af408e",
   "metadata": {},
   "source": [
    "## Miller-Robin Test for Primality"
   ]
  },
  {
   "cell_type": "code",
   "execution_count": 4,
   "id": "da9a3982-cb74-4fa7-8546-218c6eff9386",
   "metadata": {},
   "outputs": [
    {
     "data": {
      "text/plain": [
       "23288300312153161162155405137064014566465363881588674203435083025692553927880952615411319654603889656041690408664083367064090401001682785688396448515427242745092364578812406187417595980947205534509201975097947896811097308681036236541214600857113966823519565879312889685105727413876063286060949878317084807039650263996439473541520018625322284520269241589621986212726220107337679308560546381924567368512661754424827148241972365034659303022600470919367687808265341673564921748782787143872758772597246361595873533608926759182370227527146640825988660500120101335016582578136017047432321254235150284776589704513315397510777"
      ]
     },
     "execution_count": 4,
     "metadata": {},
     "output_type": "execute_result"
    }
   ],
   "source": [
    "my_key = keys.Key()\n",
    "my_key.generate_key()"
   ]
  },
  {
   "cell_type": "markdown",
   "id": "b74ef0d7-529c-4017-94e2-7e045fcd6076",
   "metadata": {},
   "source": [
    "## RSA Cryptosystem"
   ]
  },
  {
   "cell_type": "code",
   "execution_count": 3,
   "id": "b123503c-26ac-495a-9595-607075fc548a",
   "metadata": {},
   "outputs": [
    {
     "data": {
      "text/plain": [
       "(9365119194873849731695923356103215432126512362545853297909902515001347732576200046550754567217643053337135062272298486233108046286299311857729620838547156932180021181754236331752051163408654138333466111617679681333854935805422515885465547684233757340476665402089060257550420515336799704228470259784959160270103976317158496496306302563333756284907690891149422216816686426027149393426039607979829131916044865454192580026805260492421847000112758598592305007412163030952399031885432404352497424597730419921614650521809080813720918448844666446331554096450365550308650026358762739916405238396783980701347217740320371382663,\n",
       " 65537)"
      ]
     },
     "execution_count": 3,
     "metadata": {},
     "output_type": "execute_result"
    }
   ],
   "source": [
    "my_rsa = rsa.RSA(1024)\n",
    "my_rsa.get_public_key()"
   ]
  },
  {
   "cell_type": "code",
   "execution_count": 4,
   "id": "d146055f-f97e-46d7-9a4f-da22e755ab97",
   "metadata": {},
   "outputs": [],
   "source": [
    "def encrypt(message):\n",
    "        cyphertext = helpers.fast_powering(base=message, exponent=my_rsa.get_public_key()[1], modulus=my_rsa.get_public_key()[0])\n",
    "        return cyphertext"
   ]
  },
  {
   "cell_type": "code",
   "execution_count": 5,
   "id": "95d7ae4a-cb32-4e7c-9274-f864e8d8b2d3",
   "metadata": {},
   "outputs": [
    {
     "name": "stdout",
     "output_type": "stream",
     "text": [
      "42\n",
      "399614826208955544497398080073632540789786695641469631716325954119090549561753365487200979921949205827090727554812756714738605959172993759164464693454111721028025175573951523853952008582626609868761341270488126262476491746611980040512851569736214676788810328310082029184929369507316833749822049934031394526401036592828610424386967830777307264186057991253250215642866272515964994073570046966504188664117573198645104761651743680515493631549673019643750785171019439435208576489760351755334772460361920258048312888394871116234353403405287780880735054113063654791311988746634536553386520864909233613917963363576932911334\n"
     ]
    },
    {
     "data": {
      "text/plain": [
       "42"
      ]
     },
     "execution_count": 5,
     "metadata": {},
     "output_type": "execute_result"
    }
   ],
   "source": [
    "message = 42\n",
    "print(message)\n",
    "cyphertext = encrypt(message)\n",
    "print(cyphertext)\n",
    "my_rsa.decrypt(cyphertext)"
   ]
  },
  {
   "cell_type": "markdown",
   "id": "8044d42a-fc70-4fb1-919a-b27a5fdc54a4",
   "metadata": {},
   "source": [
    "## Pollard's $p-1$ Factorization (In construction)"
   ]
  },
  {
   "cell_type": "code",
   "execution_count": 43,
   "id": "926fdd37-f6ae-45e7-9a95-856165db3d32",
   "metadata": {},
   "outputs": [],
   "source": [
    "def _pollard(number, base=2, threshold=50):\n",
    "    div = -1\n",
    "    for i in range(2, threshold):\n",
    "        base = (base**i) % number\n",
    "        div = _gcd(base-1,number)\n",
    "        # need to choose different base\n",
    "        if div == number:\n",
    "            return -2\n",
    "        if div > 1:\n",
    "           return div \n",
    "    return 1"
   ]
  },
  {
   "cell_type": "code",
   "execution_count": 47,
   "id": "d2854e10-995e-4fe3-b8f2-0f8e8c3542d1",
   "metadata": {},
   "outputs": [
    {
     "name": "stdout",
     "output_type": "stream",
     "text": [
      "3823\n",
      "3643\n"
     ]
    }
   ],
   "source": [
    "N = 13927189\n",
    "factor1 = _pollard(N)\n",
    "factor2 = N // factor1\n",
    "print(factor1)\n",
    "print(factor2)"
   ]
  }
 ],
 "metadata": {
  "kernelspec": {
   "display_name": "Python 3 (ipykernel)",
   "language": "python",
   "name": "python3"
  },
  "language_info": {
   "codemirror_mode": {
    "name": "ipython",
    "version": 3
   },
   "file_extension": ".py",
   "mimetype": "text/x-python",
   "name": "python",
   "nbconvert_exporter": "python",
   "pygments_lexer": "ipython3",
   "version": "3.12.4"
  }
 },
 "nbformat": 4,
 "nbformat_minor": 5
}
