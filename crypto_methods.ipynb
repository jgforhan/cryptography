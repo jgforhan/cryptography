{
 "cells": [
  {
   "cell_type": "code",
   "execution_count": 1,
   "id": "da0e6e1d-c4a0-4286-8727-6b46e19ede52",
   "metadata": {},
   "outputs": [],
   "source": [
    "# Used for generating random numbers used in cryptography\n",
    "import secrets\n",
    "# Used ONLY for statistical tests\n",
    "import random\n",
    "import keys"
   ]
  },
  {
   "cell_type": "code",
   "execution_count": 2,
   "id": "898d386e-2f9e-4f7d-a6a2-fecfe50ff7f6",
   "metadata": {},
   "outputs": [],
   "source": [
    "import helpers\n",
    "import rsa"
   ]
  },
  {
   "cell_type": "markdown",
   "id": "52b6b973-13c6-44a9-a64c-1b13a2af408e",
   "metadata": {},
   "source": [
    "## Miller-Robin Test for Primality"
   ]
  },
  {
   "cell_type": "code",
   "execution_count": 4,
   "id": "da9a3982-cb74-4fa7-8546-218c6eff9386",
   "metadata": {},
   "outputs": [
    {
     "data": {
      "text/plain": [
       "30009166552248814618157674945737251448141016467093485919653215834999664622739801660532455354387895938244362325244136608291509215838623052837558870136276197414776156384626869136739254670586130633226994196886134396977963329135357205544526408748631602078261390190432901125395975079348027241099113419222045484470039731283493789908213322755890485085215172200007153931307254634269266726108977938017354522594824862714902341687754684266465150863567235336843491778599001415149249650401610727322364633404375403905942218605058667148939943328354275223392641880714505990172656804559589050790454197546676168499647270649247536659683"
      ]
     },
     "execution_count": 4,
     "metadata": {},
     "output_type": "execute_result"
    }
   ],
   "source": [
    "my_key = keys.MakeKey()\n",
    "my_key.generate_key()"
   ]
  },
  {
   "cell_type": "markdown",
   "id": "b74ef0d7-529c-4017-94e2-7e045fcd6076",
   "metadata": {},
   "source": [
    "## RSA Cryptosystem"
   ]
  },
  {
   "cell_type": "code",
   "execution_count": 3,
   "id": "b123503c-26ac-495a-9595-607075fc548a",
   "metadata": {},
   "outputs": [
    {
     "data": {
      "text/plain": [
       "(18884705989929429547132589637198066033554887889404018180775338399470217482947895450451851383516252566904113369128004215820394503214708459458057502160497226122713228858691718456021498408794014817818492207730277091311687768886570231513540162446108850421667311904273102573316746333405586689355064281729072371907902611706459742839231220532945296177342840433928535264398601158186939992732748875439614637435605028838337554994615467461206424366143624124389557855905166003995244408397329444734992529802171307516958812728737435567888488033002295849444843015092452410343136240829895786434118753875264368007826460718677788970333,\n",
       " 65537)"
      ]
     },
     "execution_count": 3,
     "metadata": {},
     "output_type": "execute_result"
    }
   ],
   "source": [
    "my_rsa = rsa.RSA(1024)\n",
    "my_rsa.get_public_key()"
   ]
  },
  {
   "cell_type": "code",
   "execution_count": 4,
   "id": "d146055f-f97e-46d7-9a4f-da22e755ab97",
   "metadata": {},
   "outputs": [],
   "source": [
    "def encrypt(message):\n",
    "        cyphertext = helpers.fast_powering(base=message, exponent=my_rsa.get_public_key()[1], modulus=my_rsa.get_public_key()[0])\n",
    "        return cyphertext"
   ]
  },
  {
   "cell_type": "code",
   "execution_count": 8,
   "id": "95d7ae4a-cb32-4e7c-9274-f864e8d8b2d3",
   "metadata": {},
   "outputs": [
    {
     "name": "stdout",
     "output_type": "stream",
     "text": [
      "42\n",
      "14922719991342435390496448688070723616353836584115368394483513881732179889078605455988721894657984488014194540590321124408535585973792762788033113858691862022509541682770739925166356831929287507823325030301351510107287980035838236645702123138340998465323526843426196404923516688945308510104262625973870260445204443316025773610657983774732290995299264927766409147225936958329528636972788395822159854304078147833040875187806876618635855825593736185431564055637561180043130789862832045775112665099329350052195524299247795267992466600524212124339728949458061601234102197730785957322114988829421946591037160359552113305467\n"
     ]
    },
    {
     "data": {
      "text/plain": [
       "42"
      ]
     },
     "execution_count": 8,
     "metadata": {},
     "output_type": "execute_result"
    }
   ],
   "source": [
    "message = 42\n",
    "print(message)\n",
    "cyphertext = encrypt(message)\n",
    "print(cyphertext)\n",
    "my_rsa.decrypt(cyphertext)"
   ]
  },
  {
   "cell_type": "markdown",
   "id": "8044d42a-fc70-4fb1-919a-b27a5fdc54a4",
   "metadata": {},
   "source": [
    "## Pollard's $p-1$ Factorization (In construction)"
   ]
  },
  {
   "cell_type": "code",
   "execution_count": 43,
   "id": "926fdd37-f6ae-45e7-9a95-856165db3d32",
   "metadata": {},
   "outputs": [],
   "source": [
    "def _pollard(number, base=2, threshold=50):\n",
    "    div = -1\n",
    "    for i in range(2, threshold):\n",
    "        base = (base**i) % number\n",
    "        div = _gcd(base-1,number)\n",
    "        # need to choose different base\n",
    "        if div == number:\n",
    "            return -2\n",
    "        if div > 1:\n",
    "           return div \n",
    "    return 1"
   ]
  },
  {
   "cell_type": "code",
   "execution_count": 47,
   "id": "d2854e10-995e-4fe3-b8f2-0f8e8c3542d1",
   "metadata": {},
   "outputs": [
    {
     "name": "stdout",
     "output_type": "stream",
     "text": [
      "3823\n",
      "3643\n"
     ]
    }
   ],
   "source": [
    "N = 13927189\n",
    "factor1 = _pollard(N)\n",
    "factor2 = N // factor1\n",
    "print(factor1)\n",
    "print(factor2)"
   ]
  }
 ],
 "metadata": {
  "kernelspec": {
   "display_name": "Python 3 (ipykernel)",
   "language": "python",
   "name": "python3"
  },
  "language_info": {
   "codemirror_mode": {
    "name": "ipython",
    "version": 3
   },
   "file_extension": ".py",
   "mimetype": "text/x-python",
   "name": "python",
   "nbconvert_exporter": "python",
   "pygments_lexer": "ipython3",
   "version": "3.12.4"
  }
 },
 "nbformat": 4,
 "nbformat_minor": 5
}
